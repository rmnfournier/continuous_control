{
 "cells": [
  {
   "cell_type": "markdown",
   "metadata": {},
   "source": [
    "# Project Reacher \n",
    "\n",
    "In this short Notebook, I will show how my implementation of Deep Deterministic Policy Gradient (DDPG) manages to solve Unity's Reacher environment. This project was carried out as part as Udacity's DRL nanodegree and some of the code are inspired from examples of the course.  \n"
   ]
  },
  {
   "cell_type": "code",
   "execution_count": 1,
   "metadata": {},
   "outputs": [],
   "source": [
    "%matplotlib inline\n",
    "\n",
    "# Import\n",
    "from unityagents import UnityEnvironment\n",
    "import numpy as np"
   ]
  },
  {
   "cell_type": "markdown",
   "metadata": {},
   "source": [
    "We will start by launching the environment. \n",
    "\n",
    "1) Download the environment \n",
    "Linux: [click here](https://s3-us-west-1.amazonaws.com/udacity-drlnd/P2/Reacher/Reacher_Linux.zip)\n",
    "Mac OSX: [click here](https://s3-us-west-1.amazonaws.com/udacity-drlnd/P2/Reacher/Reacher.app.zip)\n",
    "Windows (32-bit): [click here](https://s3-us-west-1.amazonaws.com/udacity-drlnd/P2/Reacher/Reacher_Windows_x86.zip)\n",
    "Windows (64-bit): [click here](https://s3-us-west-1.amazonaws.com/udacity-drlnd/P2/Reacher/Reacher_Windows_x86_64.zip)\n",
    "\n",
    "2) Indicate the location of the following file : \n",
    "Mac: \"path/to/Reacher.app\"\n",
    "\n",
    "Windows (x86): \"path/to/Reacher_Windows_x86/Reacher.exe\"\n",
    "\n",
    "Windows (x86_64): \"path/to/Reacher_Windows_x86_64/Reacher.exe\"\n",
    "\n",
    "Linux (x86): \"path/to/Reacher_Linux/Reacher.x86\"\n",
    "\n",
    "Linux (x86_64): \"path/to/Reacher_Linux/Reacher.x86_64\"\n",
    "\n",
    "Linux (x86, headless): \"path/to/Reacher_Linux_NoVis/Reacher.x86\"\n",
    "\n",
    "Linux (x86_64, headless): \"path/to/Reacher_Linux_NoVis/Reacher.x86_64\"\n",
    "\n",
    "\n",
    "env = UnityEnvironment(file_name=\"Reacher.app\")"
   ]
  },
  {
   "cell_type": "code",
   "execution_count": 2,
   "metadata": {},
   "outputs": [
    {
     "name": "stderr",
     "output_type": "stream",
     "text": [
      "INFO:unityagents:\n",
      "'Academy' started successfully!\n",
      "Unity Academy name: Academy\n",
      "        Number of Brains: 1\n",
      "        Number of External Brains : 1\n",
      "        Lesson number : 0\n",
      "        Reset Parameters :\n",
      "\t\tgoal_speed -> 1.0\n",
      "\t\tgoal_size -> 5.0\n",
      "Unity brain name: ReacherBrain\n",
      "        Number of Visual Observations (per agent): 0\n",
      "        Vector Observation space type: continuous\n",
      "        Vector Observation space size (per agent): 33\n",
      "        Number of stacked Vector Observation: 1\n",
      "        Vector Action space type: continuous\n",
      "        Vector Action space size (per agent): 4\n",
      "        Vector Action descriptions: , , , \n"
     ]
    }
   ],
   "source": [
    "#Indicate the environment location in the location variable\n",
    "location = '../Project/Reacher_Linux/Reacher.x86_64'\n",
    "#no_graphics=True disables the graphics and speeds up the training\n",
    "env = UnityEnvironment(file_name=location,no_graphics=False)\n",
    "\n",
    "# Start the Brain\n",
    "brain_name = env.brain_names[0]\n",
    "brain = env.brains[brain_name]"
   ]
  },
  {
   "cell_type": "markdown",
   "metadata": {},
   "source": [
    "Finally, let's have a look at the environment"
   ]
  },
  {
   "cell_type": "code",
   "execution_count": 3,
   "metadata": {
    "scrolled": true
   },
   "outputs": [
    {
     "name": "stdout",
     "output_type": "stream",
     "text": [
      "Number of agents: 20\n",
      "Size of each action: 4\n",
      "There are 20 agents. Each observes a state with length: 33\n",
      "The state for the first agent looks like: [ 0.00000000e+00 -4.00000000e+00  0.00000000e+00  1.00000000e+00\n",
      " -0.00000000e+00 -0.00000000e+00 -4.37113883e-08  0.00000000e+00\n",
      "  0.00000000e+00  0.00000000e+00  0.00000000e+00  0.00000000e+00\n",
      "  0.00000000e+00  0.00000000e+00 -1.00000000e+01  0.00000000e+00\n",
      "  1.00000000e+00 -0.00000000e+00 -0.00000000e+00 -4.37113883e-08\n",
      "  0.00000000e+00  0.00000000e+00  0.00000000e+00  0.00000000e+00\n",
      "  0.00000000e+00  0.00000000e+00  5.75471878e+00 -1.00000000e+00\n",
      "  5.55726624e+00  0.00000000e+00  1.00000000e+00  0.00000000e+00\n",
      " -1.68164849e-01]\n"
     ]
    }
   ],
   "source": [
    "# reset the environment\n",
    "env_info = env.reset(train_mode=True)[brain_name]\n",
    "\n",
    "# number of agents\n",
    "num_agents = len(env_info.agents)\n",
    "print('Number of agents:', num_agents)\n",
    "\n",
    "# size of each action\n",
    "action_size = brain.vector_action_space_size\n",
    "print('Size of each action:', action_size)\n",
    "\n",
    "# examine the state space \n",
    "states = env_info.vector_observations\n",
    "state_size = states.shape[1]\n",
    "print('There are {} agents. Each observes a state with length: {}'.format(states.shape[0], state_size))\n",
    "print('The state for the first agent looks like:', states[0])"
   ]
  },
  {
   "cell_type": "markdown",
   "metadata": {},
   "source": [
    "## Training"
   ]
  },
  {
   "cell_type": "markdown",
   "metadata": {},
   "source": [
    "* Note : skip this part if you don't want to train the agent, *\n",
    "The agent and the descriptions of the neural networks are located in ddpg_agent.py and model.py respectively. Here, we just create one agent. "
   ]
  },
  {
   "cell_type": "code",
   "execution_count": 4,
   "metadata": {},
   "outputs": [],
   "source": [
    "# Define the Actor and Critic Policy\n",
    "from ddpg_agent import Agent\n",
    "#Create an agent\n",
    "agent = Agent(state_size=33, action_size=4, random_seed=1)"
   ]
  },
  {
   "cell_type": "markdown",
   "metadata": {},
   "source": [
    "We will start the training. We will output the average score over the last 5 episodes and the one over the 100 last ones. The environment is considered solved when the agent reaches an average score of 30 over the 100 last episodes. We will collect experience from 20 different agents, but only train one actor and one critic. Each agent will use the same weights for the training. "
   ]
  },
  {
   "cell_type": "code",
   "execution_count": 5,
   "metadata": {
    "scrolled": false
   },
   "outputs": [
    {
     "name": "stderr",
     "output_type": "stream",
     "text": [
      "/home/romain/.conda/envs/DRL/lib/python3.6/site-packages/torch/nn/functional.py:995: UserWarning: nn.functional.tanh is deprecated. Use torch.tanh instead.\n",
      "  warnings.warn(\"nn.functional.tanh is deprecated. Use torch.tanh instead.\")\n"
     ]
    },
    {
     "name": "stdout",
     "output_type": "stream",
     "text": [
      "Episode 5\tAverage Score: 0.745 last episodes: 0.74\t Average over 100 last episodes :0.74\n",
      "Episode 10\tAverage Score: 1.355 last episodes: 1.35\t Average over 100 last episodes :1.05\n",
      "Episode 15\tAverage Score: 2.465 last episodes: 2.46\t Average over 100 last episodes :1.52\n",
      "Episode 20\tAverage Score: 6.995 last episodes: 6.99\t Average over 100 last episodes :2.89\n",
      "Episode 25\tAverage Score: 15.36 last episodes: 15.36\t Average over 100 last episodes :5.38\n",
      "Episode 30\tAverage Score: 19.29 last episodes: 19.29\t Average over 100 last episodes :7.70\n",
      "Episode 35\tAverage Score: 21.92 last episodes: 21.92\t Average over 100 last episodes :9.73\n",
      "Episode 40\tAverage Score: 27.68 last episodes: 27.68\t Average over 100 last episodes :11.97\n",
      "Episode 45\tAverage Score: 33.79 last episodes: 33.79\t Average over 100 last episodes :14.40\n",
      "Episode 50\tAverage Score: 36.62 last episodes: 36.62\t Average over 100 last episodes :16.62\n",
      "Episode 55\tAverage Score: 38.88 last episodes: 38.88\t Average over 100 last episodes :18.65\n",
      "Episode 60\tAverage Score: 39.08 last episodes: 39.08\t Average over 100 last episodes :20.35\n",
      "Episode 65\tAverage Score: 35.75 last episodes: 35.75\t Average over 100 last episodes :21.53\n",
      "Episode 70\tAverage Score: 38.07 last episodes: 38.07\t Average over 100 last episodes :22.71\n",
      "Episode 75\tAverage Score: 38.57 last episodes: 38.57\t Average over 100 last episodes :23.77\n",
      "Episode 80\tAverage Score: 38.24 last episodes: 38.24\t Average over 100 last episodes :24.68\n",
      "Episode 85\tAverage Score: 37.31 last episodes: 37.31\t Average over 100 last episodes :25.42\n",
      "Episode 90\tAverage Score: 38.11 last episodes: 38.11\t Average over 100 last episodes :26.12\n",
      "Episode 95\tAverage Score: 38.41 last episodes: 38.41\t Average over 100 last episodes :26.77\n",
      "Episode 100\tAverage Score: 37.18 last episodes: 37.18\t Average over 100 last episodes :27.29\n",
      "Episode 105\tAverage Score: 35.94 last episodes: 35.94\t Average over 100 last episodes :29.05\n",
      "Episode 108\tAverage Score over 5 last episodes: 36.94\t Average over 100 last episodes :30.15Environment Solved !\n"
     ]
    },
    {
     "data": {
      "image/png": "[encoded data removed]",
      "text/plain": [
       "<Figure size 432x288 with 1 Axes>"
      ]
     },
     "metadata": {},
     "output_type": "display_data"
    }
   ],
   "source": [
    "from collections import deque\n",
    "import torch\n",
    "import matplotlib.pyplot as plt\n",
    "\n",
    "def ddpg(n_episodes=550, print_every=5):\n",
    "    scores_last_episodes = deque(maxlen=print_every)\n",
    "    scores_target = deque(maxlen=100)\n",
    "    my_scores = []\n",
    "    for i_episode in range(1, n_episodes+1):\n",
    "        env_info = env.reset(train_mode=True)[brain_name]\n",
    "        states = env_info.vector_observations                  # get the current state (for each agent)\n",
    "        agent.reset()                                          #Reset the agent \n",
    "        scores = np.zeros(num_agents)                          # initialize the score (for each agent)\n",
    "        while True:\n",
    "            actions = agent.act(states)              # select an action (for each agent)\n",
    "            env_info = env.step(actions)[brain_name]           # send all actions to the environment\n",
    "            next_states = env_info.vector_observations         # get next state (for each agent)\n",
    "            rewards = env_info.rewards                         # get reward (for each agent)\n",
    "            dones = env_info.local_done                        # see if episode finished\n",
    "            agent.step(states,actions,rewards,next_states,dones) #Memorize and learn\n",
    "            scores += env_info.rewards                        # update the score (for each agent)\n",
    "            states = next_states                               # roll over states to next time step            \n",
    "            if np.any(dones):\n",
    "                break \n",
    "        score=np.mean(scores)   \n",
    "        scores_last_episodes.append(score)\n",
    "        scores_target.append(score)\n",
    "        my_scores.append(score)\n",
    "        print('\\rEpisode {}\\tAverage Score over 5 last episodes: {:.2f}\\t Average over 100 last episodes :{:.2f}'.format(i_episode, np.mean(scores_last_episodes),np.mean(scores_target)), end=\"\")\n",
    "        torch.save(agent.actor_local.state_dict(), 'checkpoint_actor.pth')\n",
    "        torch.save(agent.critic_local.state_dict(), 'checkpoint_critic.pth')\n",
    "        if i_episode % print_every == 0:\n",
    "            print('\\rEpisode {}\\tAverage Score: {:.2f}'.format(i_episode, np.mean(scores_last_episodes)))\n",
    "        if(np.mean(scores_target)>30):\n",
    "            print('Environment Solved !')\n",
    "            break\n",
    "        \n",
    "    return my_scores\n",
    "\n",
    "fig = plt.figure()\n",
    "\n",
    "scores = ddpg()\n",
    "ax = fig.add_subplot(111)\n",
    "plt.plot(np.arange(1, len(scores)+1), scores)\n",
    "plt.ylabel('Score')\n",
    "plt.xlabel('Episode #')\n",
    "plt.show()\n",
    "\n"
   ]
  },
  {
   "cell_type": "markdown",
   "metadata": {},
   "source": [
    "Let's watch our agent !"
   ]
  },
  {
   "cell_type": "code",
   "execution_count": null,
   "metadata": {},
   "outputs": [
    {
     "name": "stderr",
     "output_type": "stream",
     "text": [
      "/home/romain/.conda/envs/DRL/lib/python3.6/site-packages/torch/nn/functional.py:995: UserWarning: nn.functional.tanh is deprecated. Use torch.tanh instead.\n",
      "  warnings.warn(\"nn.functional.tanh is deprecated. Use torch.tanh instead.\")\n"
     ]
    }
   ],
   "source": [
    "env_info = env.reset(train_mode=False)[brain_name]\n",
    "states = env_info.vector_observations                  # get the current state (for each agent)\n",
    "        #agent.reset()\n",
    "scores = np.zeros(num_agents)         # initialize the score (for each agent)\n",
    "while True:\n",
    "    actions = agent.act(states,True)              # select an action (for each agent)\n",
    "    env_info = env.step(actions)[brain_name]           # send all actions to the environment\n",
    "    next_states = env_info.vector_observations         # get next state (for each agent)\n",
    "    rewards = env_info.rewards                         # get reward (for each agent)\n",
    "    dones = env_info.local_done                        # see if episode finished\n",
    "    agent.step(states,actions,rewards,next_states,dones) #Memorize and learn\n",
    "    scores += env_info.rewards                        # update the score (for each agent)\n",
    "    states = next_states                               # roll over states to next time step            \n",
    "    if np.any(dones):\n",
    "        break \n",
    "print(np.mean(scores))   \n"
   ]
  },
  {
   "cell_type": "markdown",
   "metadata": {},
   "source": [
    "## Saving and loading the weights "
   ]
  },
  {
   "cell_type": "code",
   "execution_count": 8,
   "metadata": {},
   "outputs": [],
   "source": [
    "#Save the critic\n",
    "torch.save(agent.critic_local.state_dict(), \"critic.pth\")\n",
    "#Save the actor\n",
    "torch.save(agent.actor_local.state_dict(),\"actor.pth\")\n"
   ]
  },
  {
   "cell_type": "code",
   "execution_count": null,
   "metadata": {},
   "outputs": [],
   "source": [
    "# Load and watch\n",
    "agent.critic_local.load_state_dict(torch.load(\"critic.pth\"))\n",
    "agent.actor_local.load_state_dict(torch.load(\"actor.pth\"))\n",
    "\n",
    "env_info = env.reset(train_mode=False)[brain_name]\n",
    "states = env_info.vector_observations                  # get the current state (for each agent)\n",
    "        #agent.reset()\n",
    "scores = np.zeros(num_agents)         # initialize the score (for each agent)\n",
    "while True:\n",
    "    actions = agent.act(states,True)              # select an action (for each agent)\n",
    "    env_info = env.step(actions)[brain_name]           # send all actions to the environment\n",
    "    next_states = env_info.vector_observations         # get next state (for each agent)\n",
    "    rewards = env_info.rewards                         # get reward (for each agent)\n",
    "    dones = env_info.local_done                        # see if episode finished\n",
    "    agent.step(states,actions,rewards,next_states,dones) #Memorize and learn\n",
    "    scores += env_info.rewards                        # update the score (for each agent)\n",
    "    states = next_states                               # roll over states to next time step            \n",
    "    if np.any(dones):\n",
    "        break \n",
    "print(np.mean(scores))   "
   ]
  },
  {
   "cell_type": "code",
   "execution_count": null,
   "metadata": {},
   "outputs": [],
   "source": []
  },
  {
   "cell_type": "code",
   "execution_count": null,
   "metadata": {},
   "outputs": [],
   "source": []
  },
  {
   "cell_type": "code",
   "execution_count": null,
   "metadata": {},
   "outputs": [],
   "source": []
  },
  {
   "cell_type": "code",
   "execution_count": null,
   "metadata": {},
   "outputs": [],
   "source": []
  },
  {
   "cell_type": "code",
   "execution_count": null,
   "metadata": {},
   "outputs": [],
   "source": []
  }
 ],
 "metadata": {
  "kernelspec": {
   "display_name": "Python 3",
   "language": "python",
   "name": "python3"
  },
  "language_info": {
   "codemirror_mode": {
    "name": "ipython",
    "version": 3
   },
   "file_extension": ".py",
   "mimetype": "text/x-python",
   "name": "python",
   "nbconvert_exporter": "python",
   "pygments_lexer": "ipython3",
   "version": "3.6.6"
  }
 },
 "nbformat": 4,
 "nbformat_minor": 2
}
